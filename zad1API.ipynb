{
 "cells": [
  {
   "cell_type": "code",
   "execution_count": null,
   "id": "1b660044",
   "metadata": {
    "vscode": {
     "languageId": "plaintext"
    }
   },
   "outputs": [],
   "source": [
    "from flask import Flask, request, jsonify\n",
    "\n",
    "app = Flask(__name__)\n",
    "\n",
    "@app.route('/api/v1.0/predict', methods=['GET', 'POST'])\n",
    "def predict():\n",
    "    try:\n",
    "        num1 = float(request.args.get('num1', 0))\n",
    "    except ValueError:\n",
    "        num1 = 0\n",
    "\n",
    "    try:\n",
    "        num2 = float(request.args.get('num2', 0))\n",
    "    except ValueError:\n",
    "        num2 = 0\n",
    "\n",
    "    total = num1 + num2\n",
    "    prediction = 1 if total > 5.8 else 0\n",
    "\n",
    "    response = {\n",
    "        \"features\": {\n",
    "            \"num1\": num1,\n",
    "            \"num2\": num2\n",
    "        },\n",
    "        \"prediction\": prediction\n",
    "    }\n",
    "\n",
    "    return jsonify(response)\n",
    "\n",
    "if __name__ == '__main__':\n",
    "    app.run(host='0.0.0.0', port=5000)\n"
   ]
  }
 ],
 "metadata": {
  "language_info": {
   "name": "python"
  }
 },
 "nbformat": 4,
 "nbformat_minor": 5
}
