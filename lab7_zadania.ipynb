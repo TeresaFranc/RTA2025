{
 "cells": [
  {
   "cell_type": "markdown",
   "id": "e752f174-d77f-49bf-af87-2d40e5832d61",
   "metadata": {},
   "source": [
    "# Lab 7 — Zarzadzanie zrodlami danych strumieniowych i segmentacja klientow\n",
    "\n",
    "## 🔄 Wprowadzenie\n",
    "\n",
    "W tym laboratorium zapoznasz sie z roznymi metodami zasilania danych strumieniowych w Apache Spark oraz zastosowaniem prostych transformacji, filtrowania i segmentacji klientow w czasie rzeczywistym.\n",
    "\n",
    "---\n",
    "\n",
    "## 💡 Pomocnicza funkcja do wyswietlania naszych danych strumieniowych\n"
   ]
  },
  {
   "cell_type": "code",
   "execution_count": 1,
   "id": "cfb807f7-f176-4caf-a45a-9e6651fa776e",
   "metadata": {},
   "outputs": [],
   "source": [
    "batch_counter = {\"count\": 0}\n",
    "\n",
    "def process_batch(df, batch_id):\n",
    "    batch_counter[\"count\"] += 1\n",
    "    print(f\"Batch ID: {batch_id}\")\n",
    "    df.show(truncate=False)"
   ]
  },
  {
   "cell_type": "markdown",
   "id": "6960ef40-26bc-43df-aad5-571dc127fb89",
   "metadata": {},
   "source": [
    "---\n",
    "\n",
    "## 🔹 rate jako źródło kontrolowanego strumienia\n",
    "\n",
    "### ✅ Zadanie 1\n",
    "\n",
    "1. Przygotuj strumien danych z `format('rate')`, ustaw `rowsPerSecond` na 5.\n",
    "2. Utworz kolumne `user_id`: `expr(\"concat('u', cast(rand()*100 as int))\")`\n",
    "3. Dodaj kolumne `event_type`: `expr(\"case when rand() > 0.7 then 'purchase' else 'view' end\")`"
   ]
  },
  {
   "cell_type": "code",
   "execution_count": 12,
   "id": "0c84561b-d001-41bf-9f46-a51404fb78d2",
   "metadata": {},
   "outputs": [
    {
     "name": "stderr",
     "output_type": "stream",
     "text": [
      "25/05/19 19:01:25 WARN ResolveWriteToStream: Temporary checkpoint location created which is deleted normally when the query didn't fail: /tmp/temporary-6ee3fa96-6bd0-4e36-8317-75aee69f7823. If it's required to delete it under any circumstances, please set spark.sql.streaming.forceDeleteTempCheckpointLocation to true. Important to know deleting temp checkpoint folder is best effort.\n",
      "25/05/19 19:01:25 WARN ResolveWriteToStream: spark.sql.adaptive.enabled is not supported in streaming DataFrames/Datasets and will be disabled.\n",
      "ERROR:root:KeyboardInterrupt while sending command.\n",
      "Traceback (most recent call last):\n",
      "  File \"/home/codespace/.python/current/lib/python3.12/site-packages/py4j/java_gateway.py\", line 1038, in send_command\n",
      "    response = connection.send_command(command)\n",
      "               ^^^^^^^^^^^^^^^^^^^^^^^^^^^^^^^^\n",
      "  File \"/home/codespace/.python/current/lib/python3.12/site-packages/py4j/clientserver.py\", line 511, in send_command\n",
      "    answer = smart_decode(self.stream.readline()[:-1])\n",
      "                          ^^^^^^^^^^^^^^^^^^^^^^\n",
      "  File \"/home/codespace/.python/current/lib/python3.12/socket.py\", line 707, in readinto\n",
      "    return self._sock.recv_into(b)\n",
      "           ^^^^^^^^^^^^^^^^^^^^^^^\n",
      "KeyboardInterrupt\n"
     ]
    },
    {
     "ename": "KeyboardInterrupt",
     "evalue": "",
     "output_type": "error",
     "traceback": [
      "\u001b[31m---------------------------------------------------------------------------\u001b[39m",
      "\u001b[31mKeyboardInterrupt\u001b[39m                         Traceback (most recent call last)",
      "\u001b[36mCell\u001b[39m\u001b[36m \u001b[39m\u001b[32mIn[12]\u001b[39m\u001b[32m, line 24\u001b[39m\n\u001b[32m     18\u001b[39m \u001b[38;5;66;03m# Zapis strumienia z wykorzystaniem process_batch\u001b[39;00m\n\u001b[32m     19\u001b[39m query = (events.writeStream\n\u001b[32m     20\u001b[39m          .format(\u001b[33m\"\u001b[39m\u001b[33mconsole\u001b[39m\u001b[33m\"\u001b[39m)\n\u001b[32m     21\u001b[39m          .foreachBatch(process_batch)\n\u001b[32m     22\u001b[39m          .start())\n\u001b[32m---> \u001b[39m\u001b[32m24\u001b[39m \u001b[43mquery\u001b[49m\u001b[43m.\u001b[49m\u001b[43mawaitTermination\u001b[49m\u001b[43m(\u001b[49m\u001b[43m)\u001b[49m\n",
      "\u001b[36mFile \u001b[39m\u001b[32m~/.python/current/lib/python3.12/site-packages/pyspark/sql/streaming/query.py:221\u001b[39m, in \u001b[36mStreamingQuery.awaitTermination\u001b[39m\u001b[34m(self, timeout)\u001b[39m\n\u001b[32m    219\u001b[39m     \u001b[38;5;28;01mreturn\u001b[39;00m \u001b[38;5;28mself\u001b[39m._jsq.awaitTermination(\u001b[38;5;28mint\u001b[39m(timeout * \u001b[32m1000\u001b[39m))\n\u001b[32m    220\u001b[39m \u001b[38;5;28;01melse\u001b[39;00m:\n\u001b[32m--> \u001b[39m\u001b[32m221\u001b[39m     \u001b[38;5;28;01mreturn\u001b[39;00m \u001b[38;5;28;43mself\u001b[39;49m\u001b[43m.\u001b[49m\u001b[43m_jsq\u001b[49m\u001b[43m.\u001b[49m\u001b[43mawaitTermination\u001b[49m\u001b[43m(\u001b[49m\u001b[43m)\u001b[49m\n",
      "\u001b[36mFile \u001b[39m\u001b[32m~/.python/current/lib/python3.12/site-packages/py4j/java_gateway.py:1321\u001b[39m, in \u001b[36mJavaMember.__call__\u001b[39m\u001b[34m(self, *args)\u001b[39m\n\u001b[32m   1314\u001b[39m args_command, temp_args = \u001b[38;5;28mself\u001b[39m._build_args(*args)\n\u001b[32m   1316\u001b[39m command = proto.CALL_COMMAND_NAME +\\\n\u001b[32m   1317\u001b[39m     \u001b[38;5;28mself\u001b[39m.command_header +\\\n\u001b[32m   1318\u001b[39m     args_command +\\\n\u001b[32m   1319\u001b[39m     proto.END_COMMAND_PART\n\u001b[32m-> \u001b[39m\u001b[32m1321\u001b[39m answer = \u001b[38;5;28;43mself\u001b[39;49m\u001b[43m.\u001b[49m\u001b[43mgateway_client\u001b[49m\u001b[43m.\u001b[49m\u001b[43msend_command\u001b[49m\u001b[43m(\u001b[49m\u001b[43mcommand\u001b[49m\u001b[43m)\u001b[49m\n\u001b[32m   1322\u001b[39m return_value = get_return_value(\n\u001b[32m   1323\u001b[39m     answer, \u001b[38;5;28mself\u001b[39m.gateway_client, \u001b[38;5;28mself\u001b[39m.target_id, \u001b[38;5;28mself\u001b[39m.name)\n\u001b[32m   1325\u001b[39m \u001b[38;5;28;01mfor\u001b[39;00m temp_arg \u001b[38;5;129;01min\u001b[39;00m temp_args:\n",
      "\u001b[36mFile \u001b[39m\u001b[32m~/.python/current/lib/python3.12/site-packages/py4j/java_gateway.py:1038\u001b[39m, in \u001b[36mGatewayClient.send_command\u001b[39m\u001b[34m(self, command, retry, binary)\u001b[39m\n\u001b[32m   1036\u001b[39m connection = \u001b[38;5;28mself\u001b[39m._get_connection()\n\u001b[32m   1037\u001b[39m \u001b[38;5;28;01mtry\u001b[39;00m:\n\u001b[32m-> \u001b[39m\u001b[32m1038\u001b[39m     response = \u001b[43mconnection\u001b[49m\u001b[43m.\u001b[49m\u001b[43msend_command\u001b[49m\u001b[43m(\u001b[49m\u001b[43mcommand\u001b[49m\u001b[43m)\u001b[49m\n\u001b[32m   1039\u001b[39m     \u001b[38;5;28;01mif\u001b[39;00m binary:\n\u001b[32m   1040\u001b[39m         \u001b[38;5;28;01mreturn\u001b[39;00m response, \u001b[38;5;28mself\u001b[39m._create_connection_guard(connection)\n",
      "\u001b[36mFile \u001b[39m\u001b[32m~/.python/current/lib/python3.12/site-packages/py4j/clientserver.py:511\u001b[39m, in \u001b[36mClientServerConnection.send_command\u001b[39m\u001b[34m(self, command)\u001b[39m\n\u001b[32m    509\u001b[39m \u001b[38;5;28;01mtry\u001b[39;00m:\n\u001b[32m    510\u001b[39m     \u001b[38;5;28;01mwhile\u001b[39;00m \u001b[38;5;28;01mTrue\u001b[39;00m:\n\u001b[32m--> \u001b[39m\u001b[32m511\u001b[39m         answer = smart_decode(\u001b[38;5;28;43mself\u001b[39;49m\u001b[43m.\u001b[49m\u001b[43mstream\u001b[49m\u001b[43m.\u001b[49m\u001b[43mreadline\u001b[49m\u001b[43m(\u001b[49m\u001b[43m)\u001b[49m[:-\u001b[32m1\u001b[39m])\n\u001b[32m    512\u001b[39m         logger.debug(\u001b[33m\"\u001b[39m\u001b[33mAnswer received: \u001b[39m\u001b[38;5;132;01m{0}\u001b[39;00m\u001b[33m\"\u001b[39m.format(answer))\n\u001b[32m    513\u001b[39m         \u001b[38;5;66;03m# Happens when a the other end is dead. There might be an empty\u001b[39;00m\n\u001b[32m    514\u001b[39m         \u001b[38;5;66;03m# answer before the socket raises an error.\u001b[39;00m\n",
      "\u001b[36mFile \u001b[39m\u001b[32m~/.python/current/lib/python3.12/socket.py:707\u001b[39m, in \u001b[36mSocketIO.readinto\u001b[39m\u001b[34m(self, b)\u001b[39m\n\u001b[32m    705\u001b[39m \u001b[38;5;28;01mwhile\u001b[39;00m \u001b[38;5;28;01mTrue\u001b[39;00m:\n\u001b[32m    706\u001b[39m     \u001b[38;5;28;01mtry\u001b[39;00m:\n\u001b[32m--> \u001b[39m\u001b[32m707\u001b[39m         \u001b[38;5;28;01mreturn\u001b[39;00m \u001b[38;5;28;43mself\u001b[39;49m\u001b[43m.\u001b[49m\u001b[43m_sock\u001b[49m\u001b[43m.\u001b[49m\u001b[43mrecv_into\u001b[49m\u001b[43m(\u001b[49m\u001b[43mb\u001b[49m\u001b[43m)\u001b[49m\n\u001b[32m    708\u001b[39m     \u001b[38;5;28;01mexcept\u001b[39;00m timeout:\n\u001b[32m    709\u001b[39m         \u001b[38;5;28mself\u001b[39m._timeout_occurred = \u001b[38;5;28;01mTrue\u001b[39;00m\n",
      "\u001b[31mKeyboardInterrupt\u001b[39m: "
     ]
    }
   ],
   "source": [
    "from pyspark.sql import SparkSession\n",
    "from pyspark.sql.functions import expr, col\n",
    "\n",
    "spark = SparkSession.builder.appName(\"StreamingDemo\").getOrCreate()\n",
    "spark.sparkContext.setLogLevel(\"WARN\")\n",
    "\n",
    "# Źródło danych typu rate\n",
    "rate_df = (spark.readStream\n",
    "           .format(\"rate\")\n",
    "           .option(\"rowsPerSecond\", 5)\n",
    "           .load())\n",
    "\n",
    "# Dodanie kolumn user_id i event_type\n",
    "events = (rate_df\n",
    "          .withColumn(\"user_id\", expr(\"concat('u', cast(rand()*100 as int))\"))\n",
    "          .withColumn(\"event_type\", expr(\"case when rand() > 0.7 then 'purchase' else 'view' end\")))\n",
    "\n",
    "# Zapis strumienia z wykorzystaniem process_batch\n",
    "query = (events.writeStream\n",
    "         .format(\"console\")\n",
    "         .foreachBatch(process_batch)\n",
    "         .start())\n",
    "\n",
    "query.awaitTermination()\n"
   ]
  },
  {
   "cell_type": "markdown",
   "id": "54b92623-b93c-4ff0-9a1d-ae4b9f0d2c96",
   "metadata": {},
   "source": [
    "---\n",
    "\n",
    "## 🔹 Filtrowanie danych bez agregacji (append mode)\n",
    "\n",
    "Zobacz jak działa poniższy kod i na jego podstawie:\n",
    "\n",
    "```python\n",
    "from pyspark.sql import SparkSession\n",
    "from pyspark.sql.functions import *\n",
    "\n",
    "spark = SparkSession.builder.appName(\"AppendExample\").getOrCreate()\n",
    "spark.sparkContext.setLogLevel(\"ERROR\")\n",
    "\n",
    "# Źródło rate - generuje timestamp + value\n",
    "rate_df = (spark.readStream\n",
    "           .format(\"rate\")\n",
    "           .option(\"rowsPerSecond\", 5)\n",
    "           .load())\n",
    "\n",
    "# Filtracja bez potrzeby agregacji (bezstanowe przetwarzanie)\n",
    "filtered = rate_df.filter(col(\"value\") % 2 == 0) \\\n",
    "                  .withColumn(\"info\", expr(\"concat('even:', value)\"))\n",
    "\n",
    "# outputMode = append → pokazuje tylko nowe wiersze, bez stanu\n",
    "query = (filtered.writeStream \n",
    "    .outputMode(\"append\") \n",
    "    .format(\"console\") \n",
    "    .option(\"truncate\", False) \n",
    "    .foreachBatch(process_batch)\n",
    "    .start()\n",
    "        )\n",
    "```\n",
    "\n",
    "\n",
    "\n",
    "1. Skorzystaj z danych z poprzedniego zadania.\n",
    "2. Wyfiltruj tylko `purchase`."
   ]
  },
  {
   "cell_type": "code",
   "execution_count": 6,
   "id": "f41b0e56-5525-4718-ad54-5210ba5e6cb0",
   "metadata": {},
   "outputs": [
    {
     "name": "stderr",
     "output_type": "stream",
     "text": [
      "25/05/19 18:56:34 WARN ResolveWriteToStream: Temporary checkpoint location created which is deleted normally when the query didn't fail: /tmp/temporary-c6300fe0-375d-47f9-9e1d-74c9b8536008. If it's required to delete it under any circumstances, please set spark.sql.streaming.forceDeleteTempCheckpointLocation to true. Important to know deleting temp checkpoint folder is best effort.\n",
      "25/05/19 18:56:34 WARN ResolveWriteToStream: spark.sql.adaptive.enabled is not supported in streaming DataFrames/Datasets and will be disabled.\n"
     ]
    }
   ],
   "source": [
    "# Filtrowanie tylko 'purchase'\n",
    "purchases = events.filter(col(\"event_type\") == \"purchase\")\n",
    "\n",
    "query = (purchases.writeStream\n",
    "         .format(\"console\")\n",
    "         .outputMode(\"append\")\n",
    "         .foreachBatch(process_batch)\n",
    "         .start())"
   ]
  },
  {
   "cell_type": "markdown",
   "id": "53652ad5-d16a-4ce8-9bcc-7ac759ee1c3a",
   "metadata": {},
   "source": [
    "---\n",
    "\n",
    "## 🔹 Źródło plikowe (JSON)\n",
    "\n",
    "### ✅ Generator danych:"
   ]
  },
  {
   "cell_type": "code",
   "execution_count": 13,
   "id": "a5b42a3b-85e0-4124-ad34-dd39ee24aa87",
   "metadata": {},
   "outputs": [
    {
     "name": "stdout",
     "output_type": "stream",
     "text": [
      "Overwriting generator.py\n"
     ]
    }
   ],
   "source": [
    "%%file generator.py\n",
    "# generator.py\n",
    "import json, os, random, time\n",
    "from datetime import datetime, timedelta\n",
    "\n",
    "output_dir = \"data/stream\"\n",
    "os.makedirs(output_dir, exist_ok=True)\n",
    "\n",
    "event_types = [\"view\", \"cart\", \"purchase\"]\n",
    "categories = [\"electronics\", \"books\", \"fashion\", \"home\", \"sports\"]\n",
    "\n",
    "def generate_event():\n",
    "    return {\n",
    "        \"user_id\": f\"u{random.randint(1, 50)}\",\n",
    "        \"event_type\": random.choices(event_types, weights=[0.6, 0.25, 0.15])[0],\n",
    "        \"timestamp\": (datetime.utcnow() - timedelta(seconds=random.randint(0, 300))).isoformat(),\n",
    "        \"product_id\": f\"p{random.randint(100, 120)}\",\n",
    "        \"category\": random.choice(categories),\n",
    "        \"price\": round(random.uniform(10, 1000), 2)\n",
    "    }\n",
    "\n",
    "# Simulate file-based streaming\n",
    "while True:\n",
    "    batch = [generate_event() for _ in range(50)]\n",
    "    filename = f\"{output_dir}/events_{int(time.time())}.json\"\n",
    "    with open(filename, \"w\") as f:\n",
    "        for e in batch:\n",
    "            f.write(json.dumps(e) + \"\\n\")\n",
    "    print(f\"Wrote: {filename}\")\n",
    "    time.sleep(5)"
   ]
  },
  {
   "cell_type": "markdown",
   "id": "47a87d4f-b735-4a96-9f48-82c6e785c7ce",
   "metadata": {},
   "source": [
    "### ✅ Schemat danych:\n",
    "\n",
    "```json\n",
    "{\n",
    "  \"user_id\": \"u123\",\n",
    "  \"event_type\": \"purchase\", // albo \"view\", \"cart\", \"click\"\n",
    "  \"timestamp\": \"2025-05-09T15:24:00Z\",\n",
    "  \"product_id\": \"p456\",\n",
    "  \"category\": \"electronics\",\n",
    "  \"price\": 299.99\n",
    "}\n",
    "```\n",
    "\n",
    "1. Utwórz zmienną `schema`, która zrealizuje schamat danych naszej ramki. Wykorzystaj `StringType()`, `TimestampType()`,`DoubleType()`\n"
   ]
  },
  {
   "cell_type": "code",
   "execution_count": 9,
   "id": "ec108097-d59a-4fbb-b2ce-4726fffc7027",
   "metadata": {},
   "outputs": [],
   "source": [
    "from pyspark.sql import SparkSession\n",
    "from pyspark.sql.functions import *\n",
    "from pyspark.sql.types import *\n",
    "\n",
    "spark = SparkSession.builder.appName(\"RealTimeEcommerce\").getOrCreate()\n",
    "spark.sparkContext.setLogLevel(\"ERROR\")\n",
    "\n",
    "# StringType(), TimestampType(), DoubleType()\n",
    "\n",
    "from pyspark.sql.types import StructType, StructField, StringType, TimestampType, DoubleType\n",
    "\n",
    "schema = StructType([\n",
    "    StructField(\"user_id\", StringType(), True),\n",
    "    StructField(\"event_type\", StringType(), True),\n",
    "    StructField(\"timestamp\", TimestampType(), True),\n",
    "    StructField(\"product_id\", StringType(), True),\n",
    "    StructField(\"category\", StringType(), True),\n",
    "    StructField(\"price\", DoubleType(), True)\n",
    "])"
   ]
  },
  {
   "cell_type": "markdown",
   "id": "3ccb3423-10a1-44a8-8018-5c442460dfa3",
   "metadata": {},
   "source": [
    "### ✅ Odczyt danych z katalogu:"
   ]
  },
  {
   "cell_type": "code",
   "execution_count": 15,
   "id": "e5f6d2d6-08f2-4548-b249-5b406b51acac",
   "metadata": {},
   "outputs": [
    {
     "name": "stderr",
     "output_type": "stream",
     "text": [
      "25/05/19 19:06:10 WARN ResolveWriteToStream: Temporary checkpoint location created which is deleted normally when the query didn't fail: /tmp/temporary-dc0ee2cb-1c4b-45c1-acf4-dd7db15bccf5. If it's required to delete it under any circumstances, please set spark.sql.streaming.forceDeleteTempCheckpointLocation to true. Important to know deleting temp checkpoint folder is best effort.\n",
      "25/05/19 19:06:10 WARN ResolveWriteToStream: spark.sql.adaptive.enabled is not supported in streaming DataFrames/Datasets and will be disabled.\n"
     ]
    }
   ],
   "source": [
    "stream = (spark.readStream\n",
    "          .schema(schema)\n",
    "          .json(\"data/stream\"))\n",
    "\n",
    "query = (stream.writeStream\n",
    "         .format(\"console\")\n",
    "         .foreachBatch(process_batch)\n",
    "         .start())"
   ]
  },
  {
   "cell_type": "markdown",
   "id": "f20d8259-97e1-4dbd-81d6-e03c510483f1",
   "metadata": {},
   "source": [
    "---\n",
    "\n",
    "## 🔹 Bezstanowe zliczanie zdarzen\n",
    "\n",
    "1. Przygotuj zmienną agg1 zliczającą zdarzenia należące do danej grupy `event_type`."
   ]
  },
  {
   "cell_type": "code",
   "execution_count": 16,
   "id": "ce8f3826-7c32-4fb8-8273-d3900467f4ee",
   "metadata": {},
   "outputs": [
    {
     "name": "stderr",
     "output_type": "stream",
     "text": [
      "25/05/19 19:06:15 WARN ResolveWriteToStream: Temporary checkpoint location created which is deleted normally when the query didn't fail: /tmp/temporary-8578a163-0f39-4152-bafd-926b7e0f3cbd. If it's required to delete it under any circumstances, please set spark.sql.streaming.forceDeleteTempCheckpointLocation to true. Important to know deleting temp checkpoint folder is best effort.\n",
      "25/05/19 19:06:15 WARN ResolveWriteToStream: spark.sql.adaptive.enabled is not supported in streaming DataFrames/Datasets and will be disabled.\n"
     ]
    }
   ],
   "source": [
    "from pyspark.sql.functions import col, count\n",
    "\n",
    "# Agregacja liczby zdarzeń w grupie event_type\n",
    "agg1 = (stream\n",
    "        .groupBy(\"event_type\")\n",
    "        .agg(count(\"*\").alias(\"event_count\")))\n",
    "\n",
    "# pamietaj, że agregacje wymagają opcji complete\n",
    "query = (agg1\n",
    "         .writeStream\n",
    "         .outputMode(\"complete\")\n",
    "         .format(\"console\")\n",
    "         .foreachBatch(process_batch)\n",
    "         .start()\n",
    "        )"
   ]
  },
  {
   "cell_type": "markdown",
   "id": "c11c3e82-5cdc-4e06-8b13-e60d718ec595",
   "metadata": {},
   "source": [
    "---\n",
    "\n",
    "## 🔹 Agregacja w oknach czasowych\n",
    "\n",
    "`withWatermark(\"timestamp\", \"1 minute\")`\n",
    "   \n",
    "💡 Do czego służy: Informuje Sparka, że dane przychodzą z opóźnieniem i należy je przetwarzać tylko do określonego limitu wstecz (tutaj: 1 minuta).\n",
    "\n",
    "🚨 Dlaczego ważne: Bez watermarku Spark trzymałby w pamięci wszystkie dane, by móc je jeszcze pogrupować. Watermark pozwala zwolnić pamięć.\n",
    "\n",
    "1. Pogrupuj typy zdarzen w thumbling window, w oknie co 5 minut\n",
    "2. dodaj watermark z ustawieniem na 1 minutę. "
   ]
  },
  {
   "cell_type": "code",
   "execution_count": 17,
   "id": "461f6288-d768-4dcf-9f79-b2a827363604",
   "metadata": {},
   "outputs": [
    {
     "name": "stderr",
     "output_type": "stream",
     "text": [
      "25/05/19 19:06:58 WARN ResolveWriteToStream: Temporary checkpoint location created which is deleted normally when the query didn't fail: /tmp/temporary-3e9a6abd-6cc7-409e-bfe5-48340986b087. If it's required to delete it under any circumstances, please set spark.sql.streaming.forceDeleteTempCheckpointLocation to true. Important to know deleting temp checkpoint folder is best effort.\n",
      "25/05/19 19:06:58 WARN ResolveWriteToStream: spark.sql.adaptive.enabled is not supported in streaming DataFrames/Datasets and will be disabled.\n"
     ]
    }
   ],
   "source": [
    "windowed = (stream\n",
    "              .withWatermark(\"timestamp\", \"1 minute\")\n",
    "              .groupBy(\n",
    "                  window(col(\"timestamp\"), \"5 minutes\"),\n",
    "                  col(\"event_type\")\n",
    "              )\n",
    "              .agg(count(\"*\").alias(\"event_count\"))\n",
    "             )\n",
    "\n",
    "query = (\n",
    "    windowed.writeStream\n",
    "    .outputMode(\"append\")\n",
    "    .foreachBatch(process_batch)\n",
    "    .format(\"console\")\n",
    "    .start()\n",
    ")"
   ]
  },
  {
   "cell_type": "markdown",
   "id": "b82b9ed3-ed97-469d-99a6-9c0ae1bd7213",
   "metadata": {},
   "source": [
    "3. Zmień thumbling window na sliding window z szerokością okna 5 minut i startem nowego okna co 1 minutę. "
   ]
  },
  {
   "cell_type": "code",
   "execution_count": 18,
   "id": "57c944a2-66aa-4eec-a0d6-cb298796ce49",
   "metadata": {},
   "outputs": [
    {
     "name": "stderr",
     "output_type": "stream",
     "text": [
      "25/05/19 19:07:25 WARN ResolveWriteToStream: Temporary checkpoint location created which is deleted normally when the query didn't fail: /tmp/temporary-68ee8acc-6cb2-4215-bae4-6f22eebbd787. If it's required to delete it under any circumstances, please set spark.sql.streaming.forceDeleteTempCheckpointLocation to true. Important to know deleting temp checkpoint folder is best effort.\n",
      "25/05/19 19:07:25 WARN ResolveWriteToStream: spark.sql.adaptive.enabled is not supported in streaming DataFrames/Datasets and will be disabled.\n"
     ]
    }
   ],
   "source": [
    "windowed = (stream\n",
    "               .withWatermark(\"timestamp\", \"1 minute\")\n",
    "               .groupBy(\n",
    "                   window(col(\"timestamp\"), \"5 minutes\", \"1 minute\"),\n",
    "                   col(\"event_type\")\n",
    "               )\n",
    "               .agg(count(\"*\").alias(\"event_count\"))\n",
    "              )\n",
    "\n",
    "query = (\n",
    "    windowed.writeStream\n",
    "    .outputMode(\"append\")\n",
    "    .foreachBatch(process_batch)\n",
    "    .format(\"console\")\n",
    "    .start()\n",
    ")"
   ]
  },
  {
   "cell_type": "markdown",
   "id": "0175c8e0-0c7e-4fdf-8c81-f9963beb5391",
   "metadata": {},
   "source": [
    "\n",
    "---\n",
    "\n",
    "## 🔹 Segmentacja klientow\n",
    "\n",
    "🧩 Logika segmentacji:\n",
    "\n",
    "1. jeśli był purchase → \"Buyer\"\n",
    "2. jeśli był cart, ale nie purchase → \"Cart abandoner\"\n",
    "3. jeśli tylko view → \"Lurker\"\n",
    "\n",
    "\n",
    "`groupBy(window(...), \"user_id\")`\n",
    "\n",
    "💡 Do czego służy: Grupujemy dane per użytkownik w konkretnym przedziale czasu (oknie 5-minutowym).\n",
    "\n",
    "⏱️ window(\"timestamp\", \"5 minutes\"): Funkcja okna czasowego – każda grupa będzie dotyczyć jednego użytkownika w konkretnym 5-minutowym interwale.\n",
    "\n",
    "`agg(collect_set(\"event_type\"))`\n",
    "\n",
    "💡 Do czego służy: Zbiera wszystkie typy zdarzeń (view, cart, purchase) danego użytkownika w danym oknie.\n",
    "\n",
    "🧠 Dlaczego `collect_set` a nie `collect_list`?: collect_set usuwa duplikaty — interesuje nas tylko czy coś się zdarzyło, a nie ile razy.\n",
    "\n",
    "5. withColumn(... expr(...))\n",
    "\n",
    "💡 Do czego służy: Na podstawie zbioru zdarzeń określamy segment użytkownika.\n",
    "\n",
    "🔎 `array_contains`: Funkcja sprawdzająca, czy dany typ zdarzenia znajduje się w tablicy.\n",
    "\n",
    "\n",
    "\n",
    "\n",
    "🧠 Co warto wiedzieć:\n",
    "\n",
    "- Segmentacja to klasyczne zastosowanie agregacji i transformacji strumienia.\n",
    "- Łączenie window + watermark jest kluczowe do kontroli stanu.\n",
    "- collect_set umożliwia prostą analizę zachowań, bez potrzeby przechowywania surowych danych.\n",
    "- expr() daje elastyczność, by używać składni SQL wewnątrz kodu DataFrame."
   ]
  },
  {
   "cell_type": "code",
   "execution_count": 19,
   "id": "a16bfcc2-fd7a-46d9-9d4f-e0d6f713e449",
   "metadata": {},
   "outputs": [],
   "source": [
    "from pyspark.sql.functions import window, col, collect_set, expr\n",
    "\n",
    "# Agregacja po 5-minutowym oknie i user_id,\n",
    "agg_segmentation = (stream\n",
    "                    .withWatermark(\"timestamp\", \"1 minute\")\n",
    "                    .groupBy(\n",
    "                        window(col(\"timestamp\"), \"5 minutes\"),\n",
    "                        col(\"user_id\")\n",
    "                    )\n",
    "                    .agg(collect_set(\"event_type\").alias(\"events\"))\n",
    "                   )\n",
    "\n",
    "# Definiujemy segment na podstawie występowania event_type w tablicy\n",
    "segmented = agg_segmentation.withColumn(\n",
    "    \"segment\",\n",
    "    expr(\"\"\"\n",
    "        CASE\n",
    "            WHEN array_contains(events, 'purchase') THEN 'Buyer'\n",
    "            WHEN array_contains(events, 'cart') THEN 'Cart abandoner'\n",
    "            ELSE 'Lurker'\n",
    "        END\n",
    "    \"\"\")\n",
    ")\n"
   ]
  },
  {
   "cell_type": "markdown",
   "id": "743b65ec-2358-40c5-9662-bfa8afd34260",
   "metadata": {},
   "source": [
    "---\n",
    "## ⚙️ Porownanie trybow `outputMode`\n",
    "\n",
    "| outputMode | Opis                                        | Kiedy uzywac                           | Wymagania                 |\n",
    "| ---------- | ------------------------------------------- | -------------------------------------- | ------------------------- |\n",
    "| `append`   | Wypisywane sa **tylko nowe wiersze**        | Filtrowanie, wzbogacanie bez agregacji | Nie dziala z `groupBy`    |\n",
    "| `update`   | Wypisywane sa tylko **zmienione wiersze**   | Agregacje z watermarkami               | Wymaga zarzadzania stanem |\n",
    "| `complete` | Wypisywane jest **calosciowe podsumowanie** | Podsumowania okien, snapshoty          | Moze byc kosztowne        |\n",
    "\n",
    "---"
   ]
  }
 ],
 "metadata": {
  "kernelspec": {
   "display_name": "Python 3",
   "language": "python",
   "name": "python3"
  },
  "language_info": {
   "codemirror_mode": {
    "name": "ipython",
    "version": 3
   },
   "file_extension": ".py",
   "mimetype": "text/x-python",
   "name": "python",
   "nbconvert_exporter": "python",
   "pygments_lexer": "ipython3",
   "version": "3.12.1"
  }
 },
 "nbformat": 4,
 "nbformat_minor": 5
}
